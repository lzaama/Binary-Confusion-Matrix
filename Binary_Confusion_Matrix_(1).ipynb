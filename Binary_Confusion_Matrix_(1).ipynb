{
  "cells": [
    {
      "cell_type": "markdown",
      "metadata": {
        "id": "00zrww1WI7O3"
      },
      "source": [
        "# Binary Confusion Matrix"
      ]
    },
    {
      "cell_type": "markdown",
      "metadata": {
        "id": "i6h8J2QmI7O7"
      },
      "source": [
        "---"
      ]
    },
    {
      "cell_type": "markdown",
      "metadata": {
        "id": "Bsqrj07kI7O7"
      },
      "source": [
        "Again, we will explore the Winsconsin Breast Cancer data, and dig deeper into the classification results. 🔍"
      ]
    },
    {
      "cell_type": "code",
      "execution_count": 1,
      "metadata": {
        "id": "U-ClM6niI7O8"
      },
      "outputs": [],
      "source": [
        "import numpy as np\n",
        "from sklearn.datasets import load_breast_cancer\n",
        "\n",
        "np.random.seed(0)\n",
        "X, y = load_breast_cancer(return_X_y=True)\n"
      ]
    },
    {
      "cell_type": "markdown",
      "metadata": {
        "id": "-PHkK_FDI7O-"
      },
      "source": [
        "**Q1**. Split your data into a training set of 80% of the data and a test set of 20%. Specify the `random_state` to 0 so that you get **reproducible** results."
      ]
    },
    {
      "cell_type": "code",
      "execution_count": 3,
      "metadata": {
        "ExecuteTime": {
          "end_time": "2020-04-18T17:07:01.314306Z",
          "start_time": "2020-04-18T17:07:01.311503Z"
        },
        "id": "nJZVLphuI7O-"
      },
      "outputs": [],
      "source": [
        "# TODO: Split data\n",
        "from sklearn.model_selection import train_test_split\n",
        "#séparation 80% entrainement 20% test\n",
        "X_train, X_test, y_train, y_test = train_test_split(X, y, test_size=0.2)\n"
      ]
    },
    {
      "cell_type": "markdown",
      "metadata": {
        "id": "kbNSnkE-I7O-"
      },
      "source": [
        "**Q2**. Fit a Logistic Regression on your data. Evaluate accuracy."
      ]
    },
    {
      "cell_type": "code",
      "execution_count": 6,
      "metadata": {
        "ExecuteTime": {
          "end_time": "2020-04-18T17:07:03.958472Z",
          "start_time": "2020-04-18T17:07:03.953452Z"
        },
        "colab": {
          "base_uri": "https://localhost:8080/",
          "height": 213
        },
        "id": "HV_uK58SI7O_",
        "outputId": "86fdff12-2417-4c22-81bd-109f6a1c2766"
      },
      "outputs": [
        {
          "output_type": "stream",
          "name": "stderr",
          "text": [
            "/usr/local/lib/python3.10/dist-packages/sklearn/linear_model/_logistic.py:458: ConvergenceWarning: lbfgs failed to converge (status=1):\n",
            "STOP: TOTAL NO. of ITERATIONS REACHED LIMIT.\n",
            "\n",
            "Increase the number of iterations (max_iter) or scale the data as shown in:\n",
            "    https://scikit-learn.org/stable/modules/preprocessing.html\n",
            "Please also refer to the documentation for alternative solver options:\n",
            "    https://scikit-learn.org/stable/modules/linear_model.html#logistic-regression\n",
            "  n_iter_i = _check_optimize_result(\n"
          ]
        },
        {
          "output_type": "execute_result",
          "data": {
            "text/plain": [
              "LogisticRegression()"
            ],
            "text/html": [
              "<style>#sk-container-id-2 {color: black;background-color: white;}#sk-container-id-2 pre{padding: 0;}#sk-container-id-2 div.sk-toggleable {background-color: white;}#sk-container-id-2 label.sk-toggleable__label {cursor: pointer;display: block;width: 100%;margin-bottom: 0;padding: 0.3em;box-sizing: border-box;text-align: center;}#sk-container-id-2 label.sk-toggleable__label-arrow:before {content: \"▸\";float: left;margin-right: 0.25em;color: #696969;}#sk-container-id-2 label.sk-toggleable__label-arrow:hover:before {color: black;}#sk-container-id-2 div.sk-estimator:hover label.sk-toggleable__label-arrow:before {color: black;}#sk-container-id-2 div.sk-toggleable__content {max-height: 0;max-width: 0;overflow: hidden;text-align: left;background-color: #f0f8ff;}#sk-container-id-2 div.sk-toggleable__content pre {margin: 0.2em;color: black;border-radius: 0.25em;background-color: #f0f8ff;}#sk-container-id-2 input.sk-toggleable__control:checked~div.sk-toggleable__content {max-height: 200px;max-width: 100%;overflow: auto;}#sk-container-id-2 input.sk-toggleable__control:checked~label.sk-toggleable__label-arrow:before {content: \"▾\";}#sk-container-id-2 div.sk-estimator input.sk-toggleable__control:checked~label.sk-toggleable__label {background-color: #d4ebff;}#sk-container-id-2 div.sk-label input.sk-toggleable__control:checked~label.sk-toggleable__label {background-color: #d4ebff;}#sk-container-id-2 input.sk-hidden--visually {border: 0;clip: rect(1px 1px 1px 1px);clip: rect(1px, 1px, 1px, 1px);height: 1px;margin: -1px;overflow: hidden;padding: 0;position: absolute;width: 1px;}#sk-container-id-2 div.sk-estimator {font-family: monospace;background-color: #f0f8ff;border: 1px dotted black;border-radius: 0.25em;box-sizing: border-box;margin-bottom: 0.5em;}#sk-container-id-2 div.sk-estimator:hover {background-color: #d4ebff;}#sk-container-id-2 div.sk-parallel-item::after {content: \"\";width: 100%;border-bottom: 1px solid gray;flex-grow: 1;}#sk-container-id-2 div.sk-label:hover label.sk-toggleable__label {background-color: #d4ebff;}#sk-container-id-2 div.sk-serial::before {content: \"\";position: absolute;border-left: 1px solid gray;box-sizing: border-box;top: 0;bottom: 0;left: 50%;z-index: 0;}#sk-container-id-2 div.sk-serial {display: flex;flex-direction: column;align-items: center;background-color: white;padding-right: 0.2em;padding-left: 0.2em;position: relative;}#sk-container-id-2 div.sk-item {position: relative;z-index: 1;}#sk-container-id-2 div.sk-parallel {display: flex;align-items: stretch;justify-content: center;background-color: white;position: relative;}#sk-container-id-2 div.sk-item::before, #sk-container-id-2 div.sk-parallel-item::before {content: \"\";position: absolute;border-left: 1px solid gray;box-sizing: border-box;top: 0;bottom: 0;left: 50%;z-index: -1;}#sk-container-id-2 div.sk-parallel-item {display: flex;flex-direction: column;z-index: 1;position: relative;background-color: white;}#sk-container-id-2 div.sk-parallel-item:first-child::after {align-self: flex-end;width: 50%;}#sk-container-id-2 div.sk-parallel-item:last-child::after {align-self: flex-start;width: 50%;}#sk-container-id-2 div.sk-parallel-item:only-child::after {width: 0;}#sk-container-id-2 div.sk-dashed-wrapped {border: 1px dashed gray;margin: 0 0.4em 0.5em 0.4em;box-sizing: border-box;padding-bottom: 0.4em;background-color: white;}#sk-container-id-2 div.sk-label label {font-family: monospace;font-weight: bold;display: inline-block;line-height: 1.2em;}#sk-container-id-2 div.sk-label-container {text-align: center;}#sk-container-id-2 div.sk-container {/* jupyter's `normalize.less` sets `[hidden] { display: none; }` but bootstrap.min.css set `[hidden] { display: none !important; }` so we also need the `!important` here to be able to override the default hidden behavior on the sphinx rendered scikit-learn.org. See: https://github.com/scikit-learn/scikit-learn/issues/21755 */display: inline-block !important;position: relative;}#sk-container-id-2 div.sk-text-repr-fallback {display: none;}</style><div id=\"sk-container-id-2\" class=\"sk-top-container\"><div class=\"sk-text-repr-fallback\"><pre>LogisticRegression()</pre><b>In a Jupyter environment, please rerun this cell to show the HTML representation or trust the notebook. <br />On GitHub, the HTML representation is unable to render, please try loading this page with nbviewer.org.</b></div><div class=\"sk-container\" hidden><div class=\"sk-item\"><div class=\"sk-estimator sk-toggleable\"><input class=\"sk-toggleable__control sk-hidden--visually\" id=\"sk-estimator-id-2\" type=\"checkbox\" checked><label for=\"sk-estimator-id-2\" class=\"sk-toggleable__label sk-toggleable__label-arrow\">LogisticRegression</label><div class=\"sk-toggleable__content\"><pre>LogisticRegression()</pre></div></div></div></div></div>"
            ]
          },
          "metadata": {},
          "execution_count": 6
        }
      ],
      "source": [
        "# TODO: Logistic Regression\n",
        "from sklearn.linear_model import LogisticRegression\n",
        "lr = LogisticRegression()\n",
        "lr.fit(X_train, y_train)\n"
      ]
    },
    {
      "cell_type": "code",
      "source": [
        "# Prédire les étiquettes pour l'ensemble de test\n",
        "from sklearn.metrics import RocCurveDisplay,roc_auc_score\n",
        "from sklearn.metrics import accuracy_score\n",
        "\n",
        "y_pred = lr.predict(X_test)\n",
        "\n",
        "# Évaluer la précision\n",
        "precision = accuracy_score(y_test, y_pred)\n"
      ],
      "metadata": {
        "id": "rr_7AdK3L6Fs"
      },
      "execution_count": 8,
      "outputs": []
    },
    {
      "cell_type": "code",
      "source": [
        "y_pred = lr.predict(X_test) # prediction"
      ],
      "metadata": {
        "id": "NMNDF1YPNEGV"
      },
      "execution_count": 10,
      "outputs": []
    },
    {
      "cell_type": "code",
      "source": [
        "y_pred_proba = lr.predict_proba(X_test)"
      ],
      "metadata": {
        "id": "nbMtXsEmNJ57"
      },
      "execution_count": 11,
      "outputs": []
    },
    {
      "cell_type": "code",
      "source": [
        "y_pred_proba #proba de chacune de prédicition. A gauche 0 a droite 1"
      ],
      "metadata": {
        "colab": {
          "base_uri": "https://localhost:8080/"
        },
        "id": "CMqbONuWNPKM",
        "outputId": "53381d2f-598d-4322-9b84-cedd3e06fa82"
      },
      "execution_count": 12,
      "outputs": [
        {
          "output_type": "execute_result",
          "data": {
            "text/plain": [
              "array([[9.89754593e-01, 1.02454069e-02],\n",
              "       [2.30383649e-02, 9.76961635e-01],\n",
              "       [3.11860605e-03, 9.96881394e-01],\n",
              "       [2.17890502e-01, 7.82109498e-01],\n",
              "       [1.75713877e-04, 9.99824286e-01],\n",
              "       [3.37685509e-03, 9.96623145e-01],\n",
              "       [4.02286932e-03, 9.95977131e-01],\n",
              "       [2.31282097e-03, 9.97687179e-01],\n",
              "       [9.99816880e-03, 9.90001831e-01],\n",
              "       [5.26019401e-04, 9.99473981e-01],\n",
              "       [4.69933595e-01, 5.30066405e-01],\n",
              "       [1.17432041e-01, 8.82567959e-01],\n",
              "       [2.45902595e-03, 9.97540974e-01],\n",
              "       [8.22091747e-01, 1.77908253e-01],\n",
              "       [1.99744977e-01, 8.00255023e-01],\n",
              "       [9.97074053e-01, 2.92594679e-03],\n",
              "       [8.04352331e-03, 9.91956477e-01],\n",
              "       [9.99999997e-01, 2.67540523e-09],\n",
              "       [9.97028158e-01, 2.97184250e-03],\n",
              "       [1.00000000e+00, 2.39508141e-12],\n",
              "       [9.99956662e-01, 4.33380137e-05],\n",
              "       [8.97977891e-01, 1.02022109e-01],\n",
              "       [3.20691160e-03, 9.96793088e-01],\n",
              "       [1.26512107e-02, 9.87348789e-01],\n",
              "       [9.92318944e-01, 7.68105583e-03],\n",
              "       [3.97454819e-02, 9.60254518e-01],\n",
              "       [3.77433780e-03, 9.96225662e-01],\n",
              "       [6.92788424e-01, 3.07211576e-01],\n",
              "       [4.42965391e-03, 9.95570346e-01],\n",
              "       [1.00000000e+00, 7.97825651e-12],\n",
              "       [8.20304409e-04, 9.99179696e-01],\n",
              "       [9.99999993e-01, 7.07524752e-09],\n",
              "       [2.58109349e-01, 7.41890651e-01],\n",
              "       [9.99607747e-01, 3.92252817e-04],\n",
              "       [3.39267775e-04, 9.99660732e-01],\n",
              "       [9.97909696e-01, 2.09030429e-03],\n",
              "       [1.02516401e-01, 8.97483599e-01],\n",
              "       [9.99998222e-01, 1.77789822e-06],\n",
              "       [5.24618808e-03, 9.94753812e-01],\n",
              "       [9.99416122e-01, 5.83878451e-04],\n",
              "       [8.73594889e-01, 1.26405111e-01],\n",
              "       [2.81209715e-03, 9.97187903e-01],\n",
              "       [9.98420711e-01, 1.57928944e-03],\n",
              "       [1.26452860e-03, 9.98735471e-01],\n",
              "       [8.07374426e-01, 1.92625574e-01],\n",
              "       [1.00000000e+00, 1.02761811e-12],\n",
              "       [3.76366820e-04, 9.99623633e-01],\n",
              "       [3.85034175e-02, 9.61496582e-01],\n",
              "       [3.29574492e-03, 9.96704255e-01],\n",
              "       [9.98661985e-01, 1.33801546e-03],\n",
              "       [9.99986210e-01, 1.37901803e-05],\n",
              "       [3.33615720e-01, 6.66384280e-01],\n",
              "       [9.99999756e-01, 2.44393562e-07],\n",
              "       [4.17984437e-03, 9.95820156e-01],\n",
              "       [6.54771692e-03, 9.93452283e-01],\n",
              "       [1.38087764e-03, 9.98619122e-01],\n",
              "       [5.17360969e-03, 9.94826390e-01],\n",
              "       [1.94991195e-02, 9.80500880e-01],\n",
              "       [2.85286549e-02, 9.71471345e-01],\n",
              "       [1.00000000e+00, 1.25023187e-17],\n",
              "       [9.80398804e-01, 1.96011964e-02],\n",
              "       [9.99955535e-01, 4.44653835e-05],\n",
              "       [2.20338266e-03, 9.97796617e-01],\n",
              "       [8.73061679e-03, 9.91269383e-01],\n",
              "       [9.99999931e-01, 6.85927345e-08],\n",
              "       [5.59347529e-02, 9.44065247e-01],\n",
              "       [1.00000000e+00, 1.04171061e-18],\n",
              "       [9.99939813e-01, 6.01865722e-05],\n",
              "       [9.99999955e-01, 4.46128296e-08],\n",
              "       [1.24389750e-02, 9.87561025e-01],\n",
              "       [6.15424018e-01, 3.84575982e-01],\n",
              "       [9.99995033e-01, 4.96709119e-06],\n",
              "       [5.16363467e-03, 9.94836365e-01],\n",
              "       [1.05206930e-01, 8.94793070e-01],\n",
              "       [9.99998886e-01, 1.11429546e-06],\n",
              "       [1.69036357e-02, 9.83096364e-01],\n",
              "       [3.48400215e-03, 9.96515998e-01],\n",
              "       [7.48388857e-03, 9.92516111e-01],\n",
              "       [5.64860983e-03, 9.94351390e-01],\n",
              "       [8.75495067e-03, 9.91245049e-01],\n",
              "       [9.95280634e-01, 4.71936609e-03],\n",
              "       [9.99999999e-01, 1.27781497e-09],\n",
              "       [9.99991113e-01, 8.88678279e-06],\n",
              "       [7.25164035e-04, 9.99274836e-01],\n",
              "       [9.58557723e-01, 4.14422772e-02],\n",
              "       [1.41493315e-03, 9.98585067e-01],\n",
              "       [7.58153425e-03, 9.92418466e-01],\n",
              "       [1.68819610e-03, 9.98311804e-01],\n",
              "       [9.99985891e-01, 1.41094938e-05],\n",
              "       [1.00000000e+00, 7.83073160e-11],\n",
              "       [5.26313151e-04, 9.99473687e-01],\n",
              "       [7.86747530e-01, 2.13252470e-01],\n",
              "       [6.14200633e-01, 3.85799367e-01],\n",
              "       [9.97979682e-01, 2.02031811e-03],\n",
              "       [1.92784890e-02, 9.80721511e-01],\n",
              "       [1.05605520e-02, 9.89439448e-01],\n",
              "       [1.00000000e+00, 2.28520387e-16],\n",
              "       [1.28639838e-01, 8.71360162e-01],\n",
              "       [3.23390801e-02, 9.67660920e-01],\n",
              "       [2.28572585e-02, 9.77142741e-01],\n",
              "       [1.23110721e-03, 9.98768893e-01],\n",
              "       [7.36015704e-03, 9.92639843e-01],\n",
              "       [7.82008166e-03, 9.92179918e-01],\n",
              "       [4.59656915e-02, 9.54034309e-01],\n",
              "       [9.99999943e-01, 5.71443913e-08],\n",
              "       [2.02967072e-03, 9.97970329e-01],\n",
              "       [9.99927743e-01, 7.22566018e-05],\n",
              "       [1.92831355e-01, 8.07168645e-01],\n",
              "       [8.87711706e-01, 1.12288294e-01],\n",
              "       [6.01462712e-01, 3.98537288e-01],\n",
              "       [2.53026947e-02, 9.74697305e-01],\n",
              "       [9.99219485e-01, 7.80514552e-04],\n",
              "       [9.99994801e-01, 5.19910517e-06],\n",
              "       [1.68119893e-01, 8.31880107e-01]])"
            ]
          },
          "metadata": {},
          "execution_count": 12
        }
      ]
    },
    {
      "cell_type": "code",
      "source": [
        "accuracy_score(y_pred, y_test)"
      ],
      "metadata": {
        "colab": {
          "base_uri": "https://localhost:8080/"
        },
        "id": "l_e5FAbFNWas",
        "outputId": "f9088a54-8855-4171-fd32-37fabe748697"
      },
      "execution_count": 13,
      "outputs": [
        {
          "output_type": "execute_result",
          "data": {
            "text/plain": [
              "0.9473684210526315"
            ]
          },
          "metadata": {},
          "execution_count": 13
        }
      ]
    },
    {
      "cell_type": "code",
      "source": [
        "AUC = roc_auc_score(y_test,lr.predict_proba(X_test)[:,1])"
      ],
      "metadata": {
        "id": "7_EAKpS1Nbh3"
      },
      "execution_count": 14,
      "outputs": []
    },
    {
      "cell_type": "code",
      "source": [
        "import matplotlib.pyplot as plt\n",
        "y_pred = lr.decision_function(X_test)\n",
        "RocCurveDisplay.from_predictions(y_test, y_pred) #RocCurve\n",
        "plt.show()"
      ],
      "metadata": {
        "colab": {
          "base_uri": "https://localhost:8080/",
          "height": 449
        },
        "id": "J_1C5ZogNgTO",
        "outputId": "7155ca2c-3f59-4ced-f8b0-a3ec6aad2d03"
      },
      "execution_count": 17,
      "outputs": [
        {
          "output_type": "display_data",
          "data": {
            "text/plain": [
              "<Figure size 640x480 with 1 Axes>"
            ],
            "image/png": "[encoded data removed]"
          },
          "metadata": {}
        }
      ]
    },
    {
      "cell_type": "markdown",
      "metadata": {
        "id": "MZ5FXCTbI7O_"
      },
      "source": [
        "**Q3**. Now we want to understand better the performance than just the global accuracy. Explore the function `confusion_matrix` of scikit_learn, and use it to display the confusion matrix of your model."
      ]
    },
    {
      "cell_type": "code",
      "source": [
        "\n",
        "y_pred = lr.predict(X_test)\n"
      ],
      "metadata": {
        "id": "po7bEvhtPF-I"
      },
      "execution_count": 19,
      "outputs": []
    },
    {
      "cell_type": "code",
      "source": [
        "y_true = y_test\n",
        "y_pred = lr.predict(X_test)"
      ],
      "metadata": {
        "id": "qw1SmPFca_Iy"
      },
      "execution_count": 37,
      "outputs": []
    },
    {
      "cell_type": "code",
      "execution_count": 44,
      "metadata": {
        "ExecuteTime": {
          "end_time": "2020-04-18T17:07:06.685872Z",
          "start_time": "2020-04-18T17:07:06.680814Z"
        },
        "colab": {
          "base_uri": "https://localhost:8080/",
          "height": 642
        },
        "id": "7RWcGbF-I7PA",
        "outputId": "f4c54671-77b9-4977-c343-a7896e3183ed"
      },
      "outputs": [
        {
          "output_type": "display_data",
          "data": {
            "text/plain": [
              "<Figure size 1000x700 with 2 Axes>"
            ],
            "image/png": "[encoded data removed]"
          },
          "metadata": {}
        }
      ],
      "source": [
        "# TODO: Confusion matrix\n",
        "#entrainement\n",
        "from sklearn.metrics import confusion_matrix\n",
        "import matplotlib.pyplot as plt\n",
        "import seaborn as sns\n",
        "\n",
        "# Calculer la matrice de confusion\n",
        "matrice_confusion = confusion_matrix(y_test, y_pred)\n",
        "\n",
        "# Afficher la matrice de confusion avec Seaborn pour une meilleure lisibilité\n",
        "plt.figure(figsize=(10, 7))\n",
        "sns.heatmap(matrice_confusion, annot=True, fmt=\"d\", cmap=\"Blues\",\n",
        "            xticklabels=[\"Bénigne\", \"Maligne\"],\n",
        "            yticklabels=[\"Bénigne\", \"Maligne\"])\n",
        "plt.title(\"Matrice de confusion\")\n",
        "plt.ylabel(\"Vérité terrain\")\n",
        "plt.xlabel(\"Prédiction\")\n",
        "plt.show()\n",
        "\n"
      ]
    },
    {
      "cell_type": "code",
      "source": [
        "# Import des bibliothèques et calcul de la matrice de confusion\n",
        "from sklearn.metrics import confusion_matrix\n",
        "import matplotlib.pyplot as plt\n",
        "import seaborn as sns\n",
        "\n",
        "# Calcul de la matrice de confusion\n",
        "matrice_confusion = confusion_matrix(y_test, y_pred)\n",
        "\n",
        "# Affichage de la matrice de confusion avec Seaborn\n",
        "plt.figure(figsize=(10, 7))\n",
        "sns.heatmap(matrice_confusion, annot=True, fmt=\"d\", cmap=\"Blues\",\n",
        "            xticklabels=[\"Bénigne\", \"Maligne\"],\n",
        "            yticklabels=[\"Bénigne\", \"Maligne\"])\n",
        "plt.title(\"Matrice de confusion\")\n",
        "plt.ylabel(\"Vérité terrain\")\n",
        "plt.xlabel(\"Prédiction\")\n",
        "plt.show()\n",
        "\n",
        "# Extraction des valeurs de TP, TN, FP et FN\n",
        "TP = matrice_confusion[1, 1]\n",
        "TN = matrice_confusion[0, 0]\n",
        "FP = matrice_confusion[0, 1]\n",
        "FN = matrice_confusion[1, 0]\n",
        "\n",
        "TP, TN, FP, FN\n"
      ],
      "metadata": {
        "colab": {
          "base_uri": "https://localhost:8080/",
          "height": 659
        },
        "id": "OvECqo2BcHtB",
        "outputId": "64bd23a1-ad8b-4d87-ce2f-28681308cbd9"
      },
      "execution_count": 45,
      "outputs": [
        {
          "output_type": "display_data",
          "data": {
            "text/plain": [
              "<Figure size 1000x700 with 2 Axes>"
            ],
            "image/png": "[encoded data removed]"
          },
          "metadata": {}
        },
        {
          "output_type": "execute_result",
          "data": {
            "text/plain": [
              "(63, 45, 2, 4)"
            ]
          },
          "metadata": {},
          "execution_count": 45
        }
      ]
    },
    {
      "cell_type": "markdown",
      "metadata": {
        "id": "KUS-REfbI7PA"
      },
      "source": [
        "**Q4**. Before analyzing it. Let's visualize it more properly (with color, axes label etc.).\n",
        "\n",
        "- Display the confusion matrix in a more visual way with seaborn library\n",
        "- Verify that your axes are correct"
      ]
    },
    {
      "cell_type": "code",
      "execution_count": null,
      "metadata": {
        "ExecuteTime": {
          "end_time": "2020-04-18T17:07:10.050493Z",
          "start_time": "2020-04-18T17:07:10.045301Z"
        },
        "code_folding": [],
        "id": "o39T07boI7PA"
      },
      "outputs": [],
      "source": [
        "# TODO: Confusion matrix with seaborn\n"
      ]
    },
    {
      "cell_type": "code",
      "source": [],
      "metadata": {
        "id": "09gGGZ50Ymvl"
      },
      "execution_count": null,
      "outputs": []
    },
    {
      "cell_type": "markdown",
      "metadata": {
        "id": "_qjwYeCEI7PA"
      },
      "source": [
        "**Q5**. Compute by hand Precision, Recall and F1_score"
      ]
    },
    {
      "cell_type": "code",
      "source": [
        "y_true = y_test\n",
        "y_pred = lr.predict(X_test)"
      ],
      "metadata": {
        "id": "j6sm-GFmYn3O"
      },
      "execution_count": 30,
      "outputs": []
    },
    {
      "cell_type": "code",
      "execution_count": 46,
      "metadata": {
        "ExecuteTime": {
          "end_time": "2020-04-18T17:07:15.514267Z",
          "start_time": "2020-04-18T17:07:15.508821Z"
        },
        "id": "dizBgzp_I7PA"
      },
      "outputs": [],
      "source": [
        "# TODO: Classificaiton metrics\n",
        "#Positif = 1 Negatif = 0\n",
        "TP = 63\n",
        "TN = 45\n",
        "FP = 2\n",
        "FN = 4\n"
      ]
    },
    {
      "cell_type": "code",
      "source": [
        "\n",
        "precision = TP / (TP + FP)\n",
        "recall = TP / (TP + FN)\n",
        "accuracy = (TP + TN) / (TP + TN + FP + FN)\n",
        "f1 = 2 * (precision * recall) / (precision + recall)"
      ],
      "metadata": {
        "id": "ZqiAHaz0W_ZA"
      },
      "execution_count": 47,
      "outputs": []
    },
    {
      "cell_type": "code",
      "source": [
        "#avec sickit learn\n",
        "sklearn_recall = recall_score(y_pred, y_true)\n",
        "sklearn_accuracy = accuracy_score(y_pred, y_true)\n",
        "sklearn_f1 = f1_score(y_pred, y_true)"
      ],
      "metadata": {
        "id": "oz5qchzUXgmj"
      },
      "execution_count": 48,
      "outputs": []
    },
    {
      "cell_type": "code",
      "source": [
        "print(f\"We can compute the recall and recall the same way :\")\n",
        "print(f\"{accuracy=:2f} & {sklearn_accuracy=:2f}\")\n",
        "print(f\"{recall=:2f} & {sklearn_recall=:2f}\")\n",
        "print(f\"{f1=:2f} & {sklearn_f1=:2f}\")"
      ],
      "metadata": {
        "colab": {
          "base_uri": "https://localhost:8080/"
        },
        "id": "M3TiYN49ZGPm",
        "outputId": "ad71c8fe-52de-43ff-e51a-b92914ade048"
      },
      "execution_count": 49,
      "outputs": [
        {
          "output_type": "stream",
          "name": "stdout",
          "text": [
            "We can compute the recall and recall the same way :\n",
            "accuracy=0.947368 & sklearn_accuracy=0.947368\n",
            "recall=0.940299 & sklearn_recall=0.969231\n",
            "f1=0.954545 & sklearn_f1=0.954545\n"
          ]
        }
      ]
    },
    {
      "cell_type": "markdown",
      "metadata": {
        "id": "-2arEIJ4I7PB"
      },
      "source": [
        "**Q6**. Again, there is a built-in function in scikit-learn in order to compute those scores easily.\n",
        "\n",
        "It is called `classification_report`. Use it and compare with your previous numbers."
      ]
    },
    {
      "cell_type": "code",
      "execution_count": 50,
      "metadata": {
        "ExecuteTime": {
          "end_time": "2020-04-18T17:07:18.082991Z",
          "start_time": "2020-04-18T17:07:18.077791Z"
        },
        "colab": {
          "base_uri": "https://localhost:8080/"
        },
        "id": "5mYxo1XmI7PB",
        "outputId": "d68329f5-bc3a-4198-edb4-ffd1a3adc457"
      },
      "outputs": [
        {
          "output_type": "stream",
          "name": "stdout",
          "text": [
            "              precision    recall  f1-score   support\n",
            "\n",
            "     Bénigne       0.92      0.96      0.94        47\n",
            "     Maligne       0.97      0.94      0.95        67\n",
            "\n",
            "    accuracy                           0.95       114\n",
            "   macro avg       0.94      0.95      0.95       114\n",
            "weighted avg       0.95      0.95      0.95       114\n",
            "\n"
          ]
        }
      ],
      "source": [
        "# TODO: classification_report\n",
        "from sklearn.metrics import classification_report\n",
        "\n",
        "# Assurez-vous d'avoir les vraies étiquettes (y_true) et les prédictions (y_pred) correctement définies\n",
        "y_true = y_test  # y_test est votre ensemble d'étiquettes de test\n",
        "y_pred = lr.predict(X_test)  # Utilisez la méthode de prédiction de votre modèle avec les caractéristiques de test (X_test)\n",
        "\n",
        "# Utilisation de classification_report pour obtenir un rapport de classification\n",
        "report = classification_report(y_true, y_pred, target_names=[\"Bénigne\", \"Maligne\"])\n",
        "\n",
        "print(report)\n"
      ]
    },
    {
      "cell_type": "markdown",
      "metadata": {
        "id": "rHz_FTRrI7PB"
      },
      "source": [
        "**Q7**. Plot the ROC curve and compute the AUC (Area Under the Curve).\n",
        "Don't hesitate to use scikit-learn"
      ]
    },
    {
      "cell_type": "code",
      "execution_count": 51,
      "metadata": {
        "ExecuteTime": {
          "end_time": "2020-04-18T17:07:30.743687Z",
          "start_time": "2020-04-18T17:07:30.738392Z"
        },
        "colab": {
          "base_uri": "https://localhost:8080/",
          "height": 564
        },
        "id": "N9MmYLcFI7PB",
        "outputId": "efe681be-43f7-4bb9-82d9-853a7891e790"
      },
      "outputs": [
        {
          "output_type": "display_data",
          "data": {
            "text/plain": [
              "<Figure size 800x600 with 1 Axes>"
            ],
            "image/png": "[encoded data removed]"
          },
          "metadata": {}
        }
      ],
      "source": [
        "# TODO: Plot the ROC curve\n",
        "from sklearn.metrics import roc_curve\n",
        "import matplotlib.pyplot as plt\n",
        "\n",
        "# Calcul des probabilités prédites pour la classe positive (classe maligne)\n",
        "probas = lr.predict_proba(X_test)[:, 1]\n",
        "\n",
        "# Calcul de la courbe ROC\n",
        "fpr, tpr, _ = roc_curve(y_test, probas)\n",
        "\n",
        "# Tracer la courbe ROC\n",
        "plt.figure(figsize=(8, 6))\n",
        "plt.plot(fpr, tpr, color='darkorange', lw=2, label='Courbe ROC')\n",
        "plt.plot([0, 1], [0, 1], color='navy', lw=2, linestyle='--')\n",
        "plt.xlim([0.0, 1.0])\n",
        "plt.ylim([0.0, 1.05])\n",
        "plt.xlabel('Taux de faux positifs')\n",
        "plt.ylabel('Taux de vrais positifs')\n",
        "plt.title('Courbe ROC')\n",
        "plt.legend(loc=\"lower right\")\n",
        "plt.show()\n"
      ]
    },
    {
      "cell_type": "code",
      "execution_count": 52,
      "metadata": {
        "ExecuteTime": {
          "end_time": "2020-04-18T17:07:33.121590Z",
          "start_time": "2020-04-18T17:07:33.117176Z"
        },
        "colab": {
          "base_uri": "https://localhost:8080/"
        },
        "id": "hRJR7HNxI7PB",
        "outputId": "08c3ff9b-1e91-470e-88e2-95971bb10069"
      },
      "outputs": [
        {
          "output_type": "stream",
          "name": "stdout",
          "text": [
            "Score de l'Aire sous la courbe (AUC) : 0.99\n"
          ]
        }
      ],
      "source": [
        "# TODO: Compute the Area Under the Curve Score\n",
        "from sklearn.metrics import roc_auc_score\n",
        "\n",
        "# Calcul des probabilités prédites pour la classe positive (classe maligne)\n",
        "probas = lr.predict_proba(X_test)[:, 1]\n",
        "\n",
        "# Calcul de l'AUC (Area Under the Curve)\n",
        "auc = roc_auc_score(y_test, probas)\n",
        "\n",
        "# Afficher le score AUC\n",
        "print(f\"Score de l'Aire sous la courbe (AUC) : {auc:.2f}\")\n"
      ]
    },
    {
      "cell_type": "markdown",
      "metadata": {
        "id": "JAkRqbsPI7PB"
      },
      "source": [
        "**Q8**. How would you analyze your model performance?"
      ]
    },
    {
      "cell_type": "code",
      "execution_count": null,
      "metadata": {
        "ExecuteTime": {
          "end_time": "2020-04-18T17:07:36.504934Z",
          "start_time": "2020-04-18T17:07:36.499447Z"
        },
        "id": "Xn-kiSphI7PC"
      },
      "outputs": [],
      "source": [
        "# TODO: classification_report\n"
      ]
    },
    {
      "cell_type": "markdown",
      "source": [
        "Courbe ROC et AUC : La courbe ROC et l'AUC permettent d'évaluer la capacité de votre modèle à discriminer entre les classes. Une courbe ROC proche du coin supérieur gauche et une AUC élevée indiquent une meilleure performance."
      ],
      "metadata": {
        "id": "YYb8lHrHfOYO"
      }
    }
  ],
  "metadata": {
    "kernelspec": {
      "display_name": "Python 3",
      "language": "python",
      "name": "python3"
    },
    "language_info": {
      "codemirror_mode": {
        "name": "ipython",
        "version": 3
      },
      "file_extension": ".py",
      "mimetype": "text/x-python",
      "name": "python",
      "nbconvert_exporter": "python",
      "pygments_lexer": "ipython3",
      "version": "3.7.6"
    },
    "toc": {
      "base_numbering": 1,
      "nav_menu": {},
      "number_sections": true,
      "sideBar": true,
      "skip_h1_title": false,
      "title_cell": "Table of Contents",
      "title_sidebar": "Contents",
      "toc_cell": false,
      "toc_position": {},
      "toc_section_display": true,
      "toc_window_display": false
    },
    "varInspector": {
      "cols": {
        "lenName": 16,
        "lenType": 16,
        "lenVar": 40
      },
      "kernels_config": {
        "python": {
          "delete_cmd_postfix": "",
          "delete_cmd_prefix": "del ",
          "library": "var_list.py",
          "varRefreshCmd": "print(var_dic_list())"
        },
        "r": {
          "delete_cmd_postfix": ") ",
          "delete_cmd_prefix": "rm(",
          "library": "var_list.r",
          "varRefreshCmd": "cat(var_dic_list()) "
        }
      },
      "types_to_exclude": [
        "module",
        "function",
        "builtin_function_or_method",
        "instance",
        "_Feature"
      ],
      "window_display": false
    },
    "colab": {
      "provenance": []
    }
  },
  "nbformat": 4,
  "nbformat_minor": 0
}